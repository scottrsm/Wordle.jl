{
 "cells": [
  {
   "cell_type": "markdown",
   "id": "f99555b9-37ae-4226-ae7d-c3570bf40817",
   "metadata": {},
   "source": [
    "### Strategy (solve_wordle)\n",
    "- Initial Conditions:\n",
    "  - Set puzzle_word\n",
    "  - X = Start with universe of 5 letter words along with freqency of usage.\n",
    "  - Set current_universe = X\n",
    "- Start\n",
    "  - Pick guess (pick the most frequent word in current_universe that we haven't picked previously)\n",
    "  - If guess == puzzle_word)\n",
    "    - Goto End\n",
    "  - Get wordle info about how close guess is to the correct word:\n",
    "    - wordle_info = create_wordle_info(<guess>, <puzzle_word>)\n",
    "      - Example wordle_info, create_wordle_info(\"exact\", \"crane\") = ( [('a', 3)], Dict('x' => (0, 0), 'c' => (1, 1), 'e' => (1, 1), 't' => (0, 0)) )\n",
    "  - Use this match info to filter existing universe.\n",
    "    - current_universe = filter_universe(wordle_info, current_universe)\n",
    "  - Goto Start\n",
    "- End\n",
    "    - Return guess "
   ]
  },
  {
   "cell_type": "markdown",
   "id": "68f507d6-e69f-44d8-80a9-b342a00a5dcc",
   "metadata": {},
   "source": [
    "### Environment\n",
    "- We assume that the server for this notebook has been launched at the top level for this project\n",
    "  as below we look for the Wordle database in the directory:  ENV[\"PWD\"] * \"/data/\" .\n",
    "- The Wordle database is a CSV file with schema: word, freq. Here.\n",
    "    - The values in the word column are strings assumed to match: r\"[a-z]{N}\", where N is a integer -- N is the same value for all rows.\n",
    "    - The items in the freq column are strings that represent floating point numbers. "
   ]
  },
  {
   "cell_type": "markdown",
   "id": "e3177858-062b-4a91-817c-e8395671b565",
   "metadata": {},
   "source": [
    "### Use/Import Packages"
   ]
  },
  {
   "cell_type": "code",
   "execution_count": null,
   "id": "1dce2b09-90ff-49fe-9b16-7fd140880366",
   "metadata": {},
   "outputs": [],
   "source": [
    "using DataFrames\n",
    "using StatsBase\n",
    "using Statistics\n",
    "using CSV\n",
    "using Revise"
   ]
  },
  {
   "cell_type": "code",
   "execution_count": null,
   "id": "95d994a3-cfb4-4228-83b6-434583ddcba8",
   "metadata": {},
   "outputs": [],
   "source": [
    "import Wordle\n",
    "using Wordle: create_wordle_info, filter_universe, freq_letter_strat, solve_wordle"
   ]
  },
  {
   "cell_type": "markdown",
   "id": "eab0b669-d9c5-4770-9db8-bb1a9550296b",
   "metadata": {},
   "source": [
    "### Functions to Solve Wordle Puzzle"
   ]
  },
  {
   "cell_type": "markdown",
   "id": "cec0129f-a0f4-49aa-b4d8-29faa6ec3c7f",
   "metadata": {},
   "source": [
    "### Read in Wordle Words\n",
    "- Five letter words and their frequencies are stored in two files.\n",
    "- Read them in and create a DataFrame, then sort the words from most to least used.\n",
    "- Words and frequencies obtained from the Mathematica function WordFrequencyData."
   ]
  },
  {
   "cell_type": "markdown",
   "id": "133057ad-69c7-4748-9f5a-93b5cdaadd60",
   "metadata": {},
   "source": [
    "### Setup Wordle Database"
   ]
  },
  {
   "cell_type": "code",
   "execution_count": null,
   "id": "015e265b-8727-4c11-80aa-17229643044e",
   "metadata": {},
   "outputs": [],
   "source": [
    "## Change this path to point to the wordle_db.csv path.\n",
    "## Load the Wordle database as a Dataframe with schema: word(5 letter lowercase word as String),freq(Relative frequency of word as Float64)\n",
    "const WORDLE_DF =  DataFrame(CSV.File(joinpath(dirname(pathof(Wordle)), \"../data\",  \"wordle_db.csv\"); header=6, types=[String7, Float64], comment=\"#\"));"
   ]
  },
  {
   "cell_type": "markdown",
   "id": "0d8ceda5-5d8c-41e0-b59b-d87eb2daaf60",
   "metadata": {},
   "source": [
    "### Testing"
   ]
  },
  {
   "cell_type": "code",
   "execution_count": null,
   "id": "8f8c8630-aa9a-4b4d-9edc-29d323b57f1a",
   "metadata": {},
   "outputs": [],
   "source": [
    "names(WORDLE_DF)"
   ]
  },
  {
   "cell_type": "code",
   "execution_count": null,
   "id": "dab35635-160c-4728-b48c-2301aa237df5",
   "metadata": {},
   "outputs": [],
   "source": [
    "pathof(Wordle)"
   ]
  },
  {
   "cell_type": "code",
   "execution_count": null,
   "id": "90dab976-a281-4a55-941b-3e7e673ddd5b",
   "metadata": {},
   "outputs": [],
   "source": [
    "create_wordle_info(\"exact\", \"crane\")"
   ]
  },
  {
   "cell_type": "code",
   "execution_count": null,
   "id": "96d67233-063e-4d88-936e-4f6ba83a492e",
   "metadata": {},
   "outputs": [],
   "source": [
    "(info, d) = create_wordle_info(\"there\", \"their\")\n",
    "println(info)\n",
    "println(d)"
   ]
  },
  {
   "cell_type": "code",
   "execution_count": null,
   "id": "7c91ba5e-9ba7-4c62-9387-0fe0f25b037e",
   "metadata": {},
   "outputs": [],
   "source": [
    "filter_universe((info, d), WORDLE_DF[!, :word])"
   ]
  },
  {
   "cell_type": "code",
   "execution_count": null,
   "id": "64b7f9d9-f379-4972-8c2b-e587e7239e69",
   "metadata": {},
   "outputs": [],
   "source": [
    "uni = filter(:word => x -> x in String7[\"where\", \"state\", \"other\", \"child\", \"there\", \"their\", \"about\"], WORDLE_DF)"
   ]
  },
  {
   "cell_type": "code",
   "execution_count": null,
   "id": "b4151c3c-6d7a-4bb7-88fc-53188735a248",
   "metadata": {},
   "outputs": [],
   "source": [
    "solve_wordle(\"other\", uni)"
   ]
  },
  {
   "cell_type": "code",
   "execution_count": null,
   "id": "8fb4a621-ad88-47a4-80c5-00735fde2e91",
   "metadata": {},
   "outputs": [],
   "source": [
    "create_wordle_info(\"other\", \"child\")"
   ]
  },
  {
   "cell_type": "code",
   "execution_count": null,
   "id": "7d13ec10-0621-4e46-aae9-cb981da72494",
   "metadata": {},
   "outputs": [],
   "source": [
    "solve_wordle(\"child\", uni; chk_inputs=true)"
   ]
  },
  {
   "cell_type": "code",
   "execution_count": null,
   "id": "c0851145-d06b-4fc8-bfc7-59bc59a70465",
   "metadata": {},
   "outputs": [],
   "source": [
    "solve_wordle(\"otter\")"
   ]
  },
  {
   "cell_type": "code",
   "execution_count": null,
   "id": "5b836a0a-b229-4959-808e-0350d9b91e67",
   "metadata": {},
   "outputs": [],
   "source": [
    "solve_wordle(\"gamma\")"
   ]
  },
  {
   "cell_type": "code",
   "execution_count": null,
   "id": "9ec4e724-e8dc-4ff8-9524-19d2255fc8b5",
   "metadata": {},
   "outputs": [],
   "source": [
    "solve_wordle(\"windy\")"
   ]
  },
  {
   "cell_type": "code",
   "execution_count": null,
   "id": "246c7c19-183b-415a-8645-0b863f7b4463",
   "metadata": {},
   "outputs": [],
   "source": [
    "solve_wordle(\"donut\"; chk_inputs=true)"
   ]
  },
  {
   "cell_type": "code",
   "execution_count": null,
   "id": "73ff505f-d9a5-4df9-bfbc-308cc8c01c65",
   "metadata": {},
   "outputs": [],
   "source": [
    "solve_wordle(\"child\")"
   ]
  },
  {
   "cell_type": "code",
   "execution_count": null,
   "id": "2bdea1a1-913a-407b-9218-7457da2ef2ad",
   "metadata": {},
   "outputs": [],
   "source": [
    "solve_wordle(\"hobby\")"
   ]
  },
  {
   "cell_type": "code",
   "execution_count": null,
   "id": "9024fb90-c8e4-427d-ae14-34b45e882428",
   "metadata": {},
   "outputs": [],
   "source": [
    "solve_wordle(\"wrath\")"
   ]
  },
  {
   "cell_type": "code",
   "execution_count": null,
   "id": "0c849a3b-0a73-4486-beae-d00dcd9e2fd6",
   "metadata": {},
   "outputs": [],
   "source": [
    "solve_wordle(\"piano\")"
   ]
  },
  {
   "cell_type": "code",
   "execution_count": null,
   "id": "cc2fedff-c724-4019-861e-63007a96d1b4",
   "metadata": {},
   "outputs": [],
   "source": [
    "solve_wordle(\"pixel\")"
   ]
  },
  {
   "cell_type": "code",
   "execution_count": null,
   "id": "7e09793a-89c9-462d-915a-a3f129935e71",
   "metadata": {},
   "outputs": [],
   "source": [
    "solve_wordle(\"often\")"
   ]
  },
  {
   "cell_type": "code",
   "execution_count": null,
   "id": "cfb07a0a-fd11-4591-9c9d-fb44cebc804b",
   "metadata": {},
   "outputs": [],
   "source": [
    "solve_wordle(\"sense\")"
   ]
  },
  {
   "cell_type": "code",
   "execution_count": null,
   "id": "e906f499-5d0c-44ce-9dd7-adc3bdece0b2",
   "metadata": {},
   "outputs": [],
   "source": [
    "res = solve_wordle(\"value\")"
   ]
  },
  {
   "cell_type": "code",
   "execution_count": null,
   "id": "c7644194-0356-47f2-8e8e-2cf5cb66a474",
   "metadata": {},
   "outputs": [],
   "source": [
    "res[1]"
   ]
  },
  {
   "cell_type": "markdown",
   "id": "d9f87157-4065-4433-add2-d24af8d96883",
   "metadata": {},
   "source": [
    "#### Run Solver over all Puzzle Words"
   ]
  },
  {
   "cell_type": "code",
   "execution_count": null,
   "id": "23930497-b155-4a23-b84f-05313a0ac833",
   "metadata": {},
   "outputs": [],
   "source": [
    "words = Array(WORDLE_DF[!, :word])\n",
    "freqs = Array(WORDLE_DF[!, :freq])\n",
    "\n",
    "guess_len :: Vector{Int64}   = []\n",
    "freq_val  :: Vector{Float64} = []\n",
    "good_guess_len :: Vector{Int64}   = []\n",
    "good_freq_val  :: Vector{Float64} = []\n",
    "bad_guess_len :: Vector{Int64}   = []\n",
    "bad_freq_val  :: Vector{Float64} = []\n",
    "successes :: Vector{Symbol}  = []\n",
    "failures  :: Vector{Symbol}  = []\n",
    "\n",
    "i = 0\n",
    "freq_sum = 0.0\n",
    "total_count = 0\n",
    "good_count = 0\n",
    "bad_count = 0\n",
    "@time begin\n",
    "    for word in words\n",
    "        i += 1\n",
    "        freq_sum += freqs[i]\n",
    "              \n",
    "        ## Use the default strategy -- pick most frequently used word in filtered Wordle universe.\n",
    "        res = solve_wordle(String(word); chk_inputs=true)\n",
    "        ## res = solve_wordle(word; chk_inputs=false, guess_strategy=freq_letter_strat) ## Don't check input contract and use a strategy to pick next guess.\n",
    "\n",
    "        ## Check for success or failure.\n",
    "        if res[3] === :SUCCESS\n",
    "            good_count += 1\n",
    "            push!(good_guess_len, res[2]  )\n",
    "            push!(good_freq_val , freqs[i]) \n",
    "            push!(successes, res[3]  )\n",
    "        else\n",
    "            bad_count += 1\n",
    "            push!(bad_guess_len, res[2])\n",
    "            push!(bad_freq_val, freqs[i])\n",
    "            println(\"Failure for puzzle word = $word\")\n",
    "        end\n",
    "        total_count += 1\n",
    "    end\n",
    "end\n",
    "println(\"freq_sum = $freq_sum\")"
   ]
  },
  {
   "cell_type": "markdown",
   "id": "a939470b-2b41-4035-8ca0-91c0591541b6",
   "metadata": {},
   "source": [
    "#### Gather Statistics for Solver\n",
    "Below we use weighted means. Such statistics are computed using the frequency of word usage as the weights (after normalization)."
   ]
  },
  {
   "cell_type": "code",
   "execution_count": null,
   "id": "45a5dd50-18eb-4f28-ac56-26b4b41f02c8",
   "metadata": {},
   "outputs": [],
   "source": [
    "println(\"Mean guesses          = $(round(mean(vcat(good_guess_len, bad_guess_len)), digits=2))\")\n",
    "println(\"Weighted mean quesses = $(round(mean(vcat(good_guess_len, bad_guess_len), weights(vcat(good_freq_val, bad_freq_val))), digits=2))\")"
   ]
  },
  {
   "cell_type": "code",
   "execution_count": null,
   "id": "731f087c-bb74-4e89-99a3-bc29022b3569",
   "metadata": {},
   "outputs": [],
   "source": [
    "println(\"Mean Good guesses           = $(round(mean(good_guess_len), digits=2))\")\n",
    "println(\"Weighted Good mean quesses  = $(round(mean(good_guess_len, weights(good_freq_val)), digits=2))\")\n",
    "println(\"Good Weight Total (percent) = $(round(100.0 * sum(good_freq_val) / freq_sum, digits=3))\")"
   ]
  },
  {
   "cell_type": "code",
   "execution_count": null,
   "id": "63ee8ae3-e44a-48af-9d7b-78453b7ddf33",
   "metadata": {},
   "outputs": [],
   "source": [
    "println(\"Mean Bad guesses           = $(round(mean(bad_guess_len), digits=2))\")\n",
    "println(\"Weighted Bad mean quesses  = $(round(mean(bad_guess_len, weights(bad_freq_val)), digits=2))\")\n",
    "println(\"Bad Weight Total (percent) = $(round(100.0 * sum(bad_freq_val) / freq_sum, digits=3))\")"
   ]
  },
  {
   "cell_type": "code",
   "execution_count": null,
   "id": "149e117c-80f2-47db-a61d-884560e62a01",
   "metadata": {},
   "outputs": [],
   "source": [
    "println(\"Total_count  = $total_count\")\n",
    "println(\"Good_count   = $good_count\")\n",
    "println(\"Bad_count    = $bad_count\")\n",
    "println(\"Good percent = $(round(100.0 * good_count / total_count, digits=2))\")\n",
    "println(\"Bad percent  = $(round(100.0 * bad_count / total_count, digits=2))\")"
   ]
  },
  {
   "cell_type": "code",
   "execution_count": null,
   "id": "cdef2471-4230-470e-981d-513b3116c8b1",
   "metadata": {},
   "outputs": [],
   "source": [
    "solve_wordle(\"folly\")"
   ]
  },
  {
   "cell_type": "code",
   "execution_count": null,
   "id": "53e78804-3664-437d-a430-40fa1441518e",
   "metadata": {},
   "outputs": [],
   "source": [
    " solve_wordle(\"taste\"; init_guess=\"their\")"
   ]
  },
  {
   "cell_type": "code",
   "execution_count": null,
   "id": "9fcabb04-efe6-4edb-aec2-c06463e9a1ff",
   "metadata": {},
   "outputs": [],
   "source": [
    "solve_wordle(\"cower\")"
   ]
  },
  {
   "cell_type": "code",
   "execution_count": null,
   "id": "e6148de1-831e-40f4-b3fc-9e94481546ef",
   "metadata": {},
   "outputs": [],
   "source": [
    "solve_wordle(\"bravo\")"
   ]
  },
  {
   "cell_type": "code",
   "execution_count": null,
   "id": "c555d4be-4328-4b66-a16d-4816d787b6b1",
   "metadata": {},
   "outputs": [],
   "source": [
    "solve_wordle(\"chaos\")"
   ]
  },
  {
   "cell_type": "code",
   "execution_count": null,
   "id": "497250d9-1165-4d5f-82a8-e2f6b32afef8",
   "metadata": {},
   "outputs": [],
   "source": [
    "solve_wordle(\"ether\")"
   ]
  },
  {
   "cell_type": "code",
   "execution_count": null,
   "id": "cfc64f61-9226-4178-b462-30f2cf77d675",
   "metadata": {},
   "outputs": [],
   "source": [
    "solve_wordle(\"melon\")"
   ]
  },
  {
   "cell_type": "code",
   "execution_count": null,
   "id": "e3baead5-ab2e-4c95-b918-3a1d5f933006",
   "metadata": {},
   "outputs": [],
   "source": [
    "solve_wordle(\"leech\")"
   ]
  }
 ],
 "metadata": {
  "kernelspec": {
   "display_name": "Julia 1.10.4",
   "language": "julia",
   "name": "julia-1.10"
  },
  "language_info": {
   "file_extension": ".jl",
   "mimetype": "application/julia",
   "name": "julia",
   "version": "1.10.4"
  }
 },
 "nbformat": 4,
 "nbformat_minor": 5
}
